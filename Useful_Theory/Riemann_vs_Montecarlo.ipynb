{
 "cells": [
  {
   "cell_type": "code",
   "execution_count": 1,
   "id": "korean-liabilities",
   "metadata": {},
   "outputs": [],
   "source": [
    "import numpy as np\n",
    "import matplotlib.pyplot as plt"
   ]
  },
  {
   "cell_type": "code",
   "execution_count": 96,
   "id": "metallic-olympus",
   "metadata": {},
   "outputs": [],
   "source": [
    "from scipy.special import gamma\n",
    "\n",
    "#volume of n-dimensional ball\n",
    "def vol(n,R):\n",
    "    return np.pi**(n/2.)/gamma(n/2.+1)*R**n\n"
   ]
  },
  {
   "cell_type": "code",
   "execution_count": 171,
   "id": "auburn-duncan",
   "metadata": {},
   "outputs": [],
   "source": [
    "#radius\n",
    "L=0.5\n",
    "\n",
    "#number of cells for Riemann sums\n",
    "N=2**20\n",
    "\n",
    "\n",
    "#volume estimated with riemann sums\n",
    "m_riemann=np.zeros(ndim)\n",
    "#volume estimated by MC sampling\n",
    "m_sample=np.zeros((ndim,2))\n",
    "\n",
    "ndim=10\n",
    "\n",
    "for D in range(1,ndim+1):\n",
    "    \n",
    "    #number of cells per dimension\n",
    "    x=N**(1./D)\n",
    "    x1=np.ceil(x).astype(int)\n",
    "    #number of cells\n",
    "    N1=x1**D\n",
    "\n",
    "    #cell centers\n",
    "    cell_centers=-L+np.arange(x1)*2*L/x1+L/x1\n",
    "    \n",
    "    m=0 #Riemann sum\n",
    "    shape=np.repeat(x1,D)\n",
    "\n",
    "    for n in range(N1):\n",
    "        \n",
    "        idx=np.unravel_index(n, shape)\n",
    "        y=cell_centers[np.asarray(idx)]\n",
    "                \n",
    "        #add cell to Riemann sum if |y|**2 < r**2\n",
    "        m=m+(np.sum(np.square(y))<L**2)\n",
    "\n",
    "    #multiply by cell volume\n",
    "    m_riemann[D-1]=m*(2*L/x1)**D\n",
    "\n",
    "    #sample points uniformly in [0,1]^D\n",
    "    \n",
    "    M=10\n",
    "    s=np.zeros(M)\n",
    "    \n",
    "    for k in range(M):\n",
    "        samples=np.random.random((N,D))-0.5*np.ones((N,D))\n",
    "        #count samples with |y|**2 < r**2\n",
    "        s[k]=np.mean(np.sum(np.square(samples),axis=1)<L**2)\n",
    "\n",
    "    m_sample[D-1,0]=np.mean(s)\n",
    "    m_sample[D-1,1]=np.std(s)/np.sqrt(M)"
   ]
  },
  {
   "cell_type": "code",
   "execution_count": 175,
   "id": "catholic-vegetable",
   "metadata": {},
   "outputs": [
    {
     "data": {
      "image/png": "[encoded data removed]",
      "text/plain": [
       "<Figure size 432x288 with 1 Axes>"
      ]
     },
     "metadata": {
      "needs_background": "light"
     },
     "output_type": "display_data"
    }
   ],
   "source": [
    "#volume of n-dimensional ball of radius 0.5\n",
    "x=np.arange(1,ndim+1)\n",
    "plt.plot(x,np.abs(vol(x,L)-m_riemann)/(vol(x,L)),label='Riemann')\n",
    "plt.plot(x,np.abs(vol(x,L)-m_sample[:,0])/(vol(x,L)),label='Sample')\n",
    "plt.yscale('log')\n",
    "plt.ylabel('error in integral',size=15)\n",
    "plt.xlabel('D',size=15)\n",
    "plt.xticks(size=15)\n",
    "plt.yticks(size=15)\n",
    "plt.legend(fontsize=15)\n",
    "plt.grid()"
   ]
  },
  {
   "cell_type": "code",
   "execution_count": 176,
   "id": "electronic-appendix",
   "metadata": {},
   "outputs": [
    {
     "name": "stdout",
     "output_type": "stream",
     "text": [
      "[    256    4096   65536 1048576]\n"
     ]
    }
   ],
   "source": [
    "#dimension\n",
    "\n",
    "D=4\n",
    "\n",
    "N_vec=2**(4*np.arange(2,6))\n",
    "\n",
    "print(N_vec)\n",
    "\n",
    "#volume estimated with riemann sums\n",
    "m_riemann=np.zeros(len(N_vec))\n",
    "#volume estimated by MC sampling\n",
    "m_sample=np.zeros((len(N_vec),2))\n",
    "\n",
    "\n",
    "for i in range(len(N_vec)):\n",
    "               \n",
    "    N=N_vec[i]\n",
    "    \n",
    "    #number of cells per dimension\n",
    "    x=N**(1./D)\n",
    "    x1=np.ceil(x).astype(int)\n",
    "    #number of cells\n",
    "    N1=x1**D\n",
    "\n",
    "    #cell centers\n",
    "    cell_centers=-L+np.arange(x1)*2*L/x1+L/x1\n",
    "    \n",
    "    m=0 #Riemann sum\n",
    "    shape=np.repeat(x1,D)\n",
    "\n",
    "    for n in range(N1):\n",
    "        \n",
    "        idx=np.unravel_index(n, shape)\n",
    "        y=cell_centers[np.asarray(idx)]\n",
    "                \n",
    "        #add cell to Riemann sum if |y|**2 < r**2\n",
    "        m=m+(np.sum(np.square(y))<L**2)\n",
    "\n",
    "    #multiply by cell volume\n",
    "    m_riemann[i]=m*(2*L/x1)**D\n",
    "\n",
    "    #sample points uniformly in [0,1]^D\n",
    "    M=10\n",
    "    s=np.zeros(M)\n",
    "    \n",
    "    for k in range(M):\n",
    "        samples=np.random.random((N,D))-0.5*np.ones((N,D))\n",
    "        #count samples with |y|**2 < r**2\n",
    "        s[k]=np.mean(np.sum(np.square(samples),axis=1)<L**2)\n",
    "\n",
    "    #count samples with |y|**2 < r**2\n",
    "    m_sample[i,0]=np.mean(s)\n",
    "    m_sample[i,1]=np.std(s)/np.sqrt(M) "
   ]
  },
  {
   "cell_type": "code",
   "execution_count": 179,
   "id": "assured-relevance",
   "metadata": {
    "scrolled": true
   },
   "outputs": [
    {
     "name": "stdout",
     "output_type": "stream",
     "text": [
      "[0.3125     0.3203125  0.31054688 0.30941772]\n",
      "[[3.15234375e-01 8.85694273e-03]\n",
      " [3.11669922e-01 2.73572616e-03]\n",
      " [3.09359741e-01 9.29844615e-04]\n",
      " [3.08137798e-01 1.13137970e-04]]\n",
      "0.30842513753404244\n"
     ]
    },
    {
     "data": {
      "image/png": "[encoded data removed]",
      "text/plain": [
       "<Figure size 432x288 with 1 Axes>"
      ]
     },
     "metadata": {
      "needs_background": "light"
     },
     "output_type": "display_data"
    }
   ],
   "source": [
    "plt.plot(N_vec,np.abs(vol(D,L)-m_riemann),label='Riemann')\n",
    "plt.plot(N_vec,np.abs(vol(D,L)-m_sample[:,0]),label='Sampling')\n",
    "plt.xscale('log')\n",
    "plt.yscale('log')\n",
    "#plt.plot(N_vec,1./N_vec**(0.5),label)\n",
    "#plt.plot(N_vec,1./N_vec**(0.25))\n",
    "#plt.ylabel('error in integral',size=15)\n",
    "#plt.xlabel('D',size=15)\n",
    "#plt.xticks(size=15)\n",
    "#plt.yticks(size=15)\n",
    "plt.legend(fontsize=15)\n",
    "plt.grid()\n",
    "\n",
    "print(m_riemann)\n",
    "print(m_sample)\n",
    "print(vol(D,L))"
   ]
  },
  {
   "cell_type": "code",
   "execution_count": 156,
   "id": "colored-dietary",
   "metadata": {},
   "outputs": [
    {
     "name": "stdout",
     "output_type": "stream",
     "text": [
      "0.9999845595017082\n",
      "1.0003537533306635\n",
      "1.9999679752502466\n",
      "2.00233385393464\n",
      "2.9999506830251526\n",
      "2.9998787967965876\n",
      "3.9999373318961835\n",
      "3.999560467228359\n",
      "4.999935496966371\n",
      "5.003683958855469\n",
      "5.99994728737391\n",
      "5.998498952469344\n",
      "7.000798791233446\n",
      "6.997226212216778\n",
      "8.079964307047268\n",
      "7.999139901382353\n",
      "8.802107735641766\n",
      "9.004354593649584\n",
      "6.527005160137841\n",
      "9.999578851362283\n",
      "6.569491041688399\n",
      "10.99711667811596\n",
      "6.557606750716823\n",
      "12.001457055152214\n",
      "49.817052701742696\n",
      "13.00469270878783\n",
      "71.89463865065876\n",
      "13.999227549358515\n",
      "103.22705098116226\n",
      "14.99954757724035\n"
     ]
    }
   ],
   "source": [
    "# mean and std of normal\n",
    "mu=0\n",
    "sigma=1\n",
    "\n",
    "# define cells in [-5*sigma,5*sigma]^D\n",
    "L=5*sigma\n",
    "\n",
    "N=2**20\n",
    "\n",
    "#volume estimated with riemann sums\n",
    "m_riemann=np.zeros(ndim)\n",
    "#volume estimated by MC sampling\n",
    "m_sample=np.zeros(ndim)\n",
    "\n",
    "ndim=15\n",
    "\n",
    "for D in range(1,ndim+1):\n",
    "\n",
    "    #number of cells per dimension\n",
    "    x=N**(1./D)\n",
    "    x1=np.ceil(x).astype(int)\n",
    "    #number of cells\n",
    "    N1=x1**D\n",
    "\n",
    "    #cell centers\n",
    "    cell_centers=-L+np.arange(x1)*2*L/x1+L/x1\n",
    "    \n",
    "    m=0 #Riemann sum\n",
    "    \n",
    "    shape=np.repeat(x1,D)\n",
    "\n",
    "    for n in range(N1):\n",
    "        \n",
    "        idx=np.unravel_index(n, shape)\n",
    "        y=cell_centers[np.asarray(idx)]\n",
    "                \n",
    "        #add  norm(mu,sigma,y)*|y|**2 to Riemann sums\n",
    "        m=m+np.exp(-0.5*np.sum(np.square(y)))*1./(2*np.pi)**(D/2.)*np.sum(np.square(y))\n",
    " \n",
    "    #multiply by cell volume\n",
    "    m_riemann[D-1]=m*(2*L/x1)**D\n",
    "    print(m_riemann[D-1])\n",
    "    \n",
    "    samples=np.random.normal(0,1,(N,D))\n",
    "    \n",
    "    m_sample[D-1]=np.mean(np.sum(np.square(samples),axis=1))\n",
    "\n",
    "    print(m_sample[D-1])\n",
    "\n",
    "    "
   ]
  },
  {
   "cell_type": "code",
   "execution_count": 157,
   "id": "downtown-falls",
   "metadata": {},
   "outputs": [
    {
     "data": {
      "image/png": "[encoded data removed]",
      "text/plain": [
       "<Figure size 432x288 with 1 Axes>"
      ]
     },
     "metadata": {
      "needs_background": "light"
     },
     "output_type": "display_data"
    }
   ],
   "source": [
    "plt.plot(np.arange(1,D+1),np.divide(np.abs(m_riemann-np.arange(1,D+1)),np.arange(1,D+1)),label='Riemann')\n",
    "plt.plot(np.arange(1,D+1),np.divide(np.abs(m_sample-np.arange(1,D+1)),np.arange(1,D+1)),label='Monte Carlo')\n",
    "#plt.plot(np.arange(1,D+1),N**(-1./np.arange(1,D+1)))\n",
    "plt.xlabel('dimension',size=15)\n",
    "plt.ylabel('error on integral',size=15)\n",
    "plt.legend(fontsize=15)\n",
    "plt.yscale('log')\n"
   ]
  },
  {
   "cell_type": "code",
   "execution_count": null,
   "id": "equipped-incident",
   "metadata": {},
   "outputs": [],
   "source": []
  },
  {
   "cell_type": "code",
   "execution_count": null,
   "id": "dangerous-yeast",
   "metadata": {},
   "outputs": [],
   "source": []
  }
 ],
 "metadata": {
  "kernelspec": {
   "display_name": "Python 3",
   "language": "python",
   "name": "python3"
  },
  "language_info": {
   "codemirror_mode": {
    "name": "ipython",
    "version": 3
   },
   "file_extension": ".py",
   "mimetype": "text/x-python",
   "name": "python",
   "nbconvert_exporter": "python",
   "pygments_lexer": "ipython3",
   "version": "3.9.7"
  }
 },
 "nbformat": 4,
 "nbformat_minor": 5
} 
