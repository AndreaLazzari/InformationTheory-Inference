{
 "cells": [
  {
   "attachments": {},
   "cell_type": "markdown",
   "metadata": {},
   "source": [
    "# Inference with Gibbs Sampling\n",
    "\n",
    "The file `data.npy` contains data sampled from a mixture of $K=4$ Gaussians. The standard deviations of the Gaussians are known and are identical, $\\sigma_k = \\sigma = 0.5$. \n",
    "\n",
    "Reconstruct the unknown parameters and latent variables,\n",
    "\n",
    "$$\n",
    "p_k , \\mu_k, Z_i\n",
    "$$\n",
    "\n",
    "where $Z_i$ represents the assignment of each point to one of the mixture components.\n",
    "To perform the inference, use Gibbs sampling:\n",
    "\n",
    "* Initialize randomly $p_k , \\mu_k, Z_i$ , then compute\n",
    "$$ N_k = \\sum_i \\chi(Z_i = k)\n",
    "\\\\\n",
    "m_k = \\sum_i \\chi(Z_i = k) \\cdot x_k \n",
    "$$\n",
    "\n",
    "* Perform Gibbs Sampling iterations\n",
    "    - Sample $\\mu_k$ from a Normal with mean and standard deviations:\n",
    "     $$ \n",
    "     \\mu_k' = \\bigg( \\dfrac{\\mu_0}{\\sigma_0^2} + \\dfrac{\\mu_k}{\\sigma^2} \\bigg) \\cdot \\dfrac{1}{\\bigg( \\dfrac{1}{\\sigma_0^2} + \\dfrac{N_k}{\\sigma^2} \\bigg)} \\quad , \\quad \\sigma_k' = \\bigg( \\dfrac{1}{\\sigma_0^2} + \\dfrac{N_k}{\\sigma^2} \\bigg)^{-1/2} \n",
    "     $$. \n",
    "     \n",
    "     Here $\\mu_0 = 0$ and $\\sigma_0 = 1000$ are the Gaussian prior parameters. Do this for all $k$.\n",
    "\n",
    "\n",
    "    - Sample the $p_k$ from a Dirichelet with parameters $\\gamma_k' = \\gamma_k + N_k$. Here $\\gamma_k = 1$ is the Dirichelet prior parameter. Do this for all $k$.\n",
    "\n",
    "\n",
    "    - Sample the $Z_i$ from a categorical distribution, $Prob(Z_i = k) = \\dfrac{p_k \\cdot e^{- \\frac{(x_k - \\mu_k)^2}{2 \\sigma^2}}}{\\sum_k p_k \\cdot e^{- \\frac{(x_k - \\mu_k)^2}{2 \\sigma^2}}}$\n",
    "  \n",
    "  \n",
    "    If $Z_i$ is updated, update $N_k, m_k$ accordingly.\n",
    "\n",
    "---"
   ]
  },
  {
   "attachments": {},
   "cell_type": "markdown",
   "metadata": {},
   "source": [
    "## The Gibbs Sampling Algorithm\n",
    "\n",
    "Gibbs sampling is a Markov chain Monte Carlo (MCMC) technique for estimating the joint distribution of a set of variables. It can be used to perform Bayesian inference, which is a way of making statistical inferences about unknown quantities based on the principles of probability theory.\n",
    "\n",
    "The basic idea behind Gibbs sampling is to iteratively sample from the full conditional distributions of each variable, given the current values of all the other variables. This process generates a sequence of samples from the joint distribution, which can be used to approximate the posterior distribution of the variables.\n",
    "\n",
    "To perform Gibbs sampling, you need to specify the full conditional distributions for each variable, which can be derived from the joint distribution and the conditional independence structure of the variables. You then initialize the values of the variables and iterate through the following steps:\n",
    "\n",
    "* For each variable, sample a new value from its full conditional distribution given the current values of the other variables.\n",
    "* Repeat this process until the samples converge to a stationary distribution, which is an approximate representation of the joint distribution.\n",
    "\n",
    "\n",
    "\n",
    "Gibbs sampling can be an effective way to perform Bayesian inference, particularly when the joint distribution is complex and it is difficult to sample directly from it. It is also relatively simple to implement and can be used to efficiently estimate posterior distributions in large-scale models.\n",
    "\n",
    "---"
   ]
  },
  {
   "cell_type": "code",
   "execution_count": 1,
   "metadata": {},
   "outputs": [],
   "source": [
    "import numpy as np\n",
    "import matplotlib.pyplot as plt\n",
    "\n",
    "import scipy.special\n",
    "\n",
    "import scipy.stats"
   ]
  },
  {
   "cell_type": "code",
   "execution_count": 2,
   "metadata": {},
   "outputs": [],
   "source": [
    "#load the data from the file\n",
    "\n",
    "dataset = np.loadtxt('data.txt')\n"
   ]
  },
  {
   "cell_type": "code",
   "execution_count": 3,
   "metadata": {},
   "outputs": [
    {
     "data": {
      "image/png": "[encoded data removed]",
      "text/plain": [
       "<Figure size 864x576 with 1 Axes>"
      ]
     },
     "metadata": {
      "needs_background": "light"
     },
     "output_type": "display_data"
    }
   ],
   "source": [
    "# Visualizing the data\n",
    "\n",
    "fig, ax = plt.subplots(1, 1, figsize=(12, 8))\n",
    "ax.hist(dataset, bins=np.arange(np.min(dataset) - 0.2 , np.max(dataset) + 0.2 , 0.2), \n",
    "        density=True, alpha = 0.5, edgecolor='black', zorder = 2)\n",
    "ax.grid(zorder = 1)\n",
    "ax.minorticks_on()\n",
    "ax.set_title('Data PDF', fontsize = 15)\n",
    "ax.set_ylabel('PDF', fontsize = 12)\n",
    "plt.show()"
   ]
  },
  {
   "cell_type": "code",
   "execution_count": 4,
   "metadata": {},
   "outputs": [],
   "source": [
    "K = 4\n",
    "\n",
    "sigma = 0.5"
   ]
  },
  {
   "cell_type": "code",
   "execution_count": 5,
   "metadata": {},
   "outputs": [],
   "source": [
    "# Define all the functions useful\n",
    "\n",
    "def count_Nk(array):\n",
    "    N_k_list = []\n",
    "    \n",
    "    for i in range(K):\n",
    "        N_k_list.append(np.sum(array == i))\n",
    "    \n",
    "    return N_k_list\n",
    "\n",
    "def count_mk(array, x):\n",
    "    m_k_list = []\n",
    "    \n",
    "    for i in range(K):\n",
    "        m_k_list.append(np.sum(array == i) * x[array == i])   #look to this, x has to be correlated to the assigned cluster\n",
    "    \n",
    "    return m_k_list"
   ]
  },
  {
   "cell_type": "code",
   "execution_count": 6,
   "metadata": {},
   "outputs": [],
   "source": [
    "mu_0 = 0\n",
    "sigma_0 = 1000\n",
    "\n",
    "gamma_k = 1"
   ]
  },
  {
   "cell_type": "code",
   "execution_count": 18,
   "metadata": {},
   "outputs": [],
   "source": [
    "#sample mu_k\n",
    "def sample_mu_k(mu_k, Z_i):\n",
    "    sampled_mu_k = np.zeros(K)\n",
    "    \n",
    "    for k in range(K):\n",
    "\n",
    "        mu_k_prime = (mu_0/sigma_0**2 + mu_k[k]/sigma**2) / (1/sigma_0**2 + (count_Nk(Z_i)[k])/sigma**2)\n",
    "        sigma_k_prime = (1/sigma_0**2 + (count_Nk(Z_i)[k])/sigma**2)**(-1/2)\n",
    "\n",
    "        sampled_mu_k[k] = np.random.normal(mu_k_prime, sigma_k_prime)\n",
    "        \n",
    "    return sampled_mu_k\n",
    "      \n",
    "    \n",
    "#sample p_k\n",
    "def sample_p_k(Z_i):\n",
    "    sampled_p_k = np.zeros(K)\n",
    "    \n",
    "    for k in range(K):\n",
    "        gamma_prime_k = gamma_k + count_Nk(Z_i)[k]\n",
    "        \n",
    "        sampled_p_k[k] = np.random.dirichlet(gamma_prime_k)\n",
    "    \n",
    "    return sampled_p_k\n",
    "    \n",
    "    \n",
    "#sample Z_i\n",
    "def sample_Z_i(p_k, mu_k, Z_i, dataset):\n",
    "    \n",
    "    prob_Z_i_k = np.zeros(K)\n",
    "    sampled_Z_i = np.zeros(len(dataset))\n",
    "    \n",
    "    for k in range(K):\n",
    "        for i in range(len(dataset)):\n",
    "            \n",
    "            prob_Z_i_k[k] = (p_k[k] * np.exp(-(dataset[i] - mu_k[k])**2)) / ( np.sum(p_k[k] * np.exp(-(dataset[i] - mu_k[k])**2)) )\n",
    "            \n",
    "            sampled_Z_i[i] = np.random.choice(K, p = prob_Z_i_k)\n",
    "            \n",
    "    if sampled_Z_i != Z_i:\n",
    "        count_Nk(sampled_Z_i)\n",
    "        count_mk(sampled_Z_i, dataset)\n",
    "                \n",
    "    return sampled_Z_i\n",
    "            "
   ]
  },
  {
   "cell_type": "code",
   "execution_count": 58,
   "metadata": {},
   "outputs": [
    {
     "ename": "ValueError",
     "evalue": "probabilities do not sum to 1",
     "output_type": "error",
     "traceback": [
      "\u001b[0;31m---------------------------------------------------------------------------\u001b[0m",
      "\u001b[0;31mValueError\u001b[0m                                Traceback (most recent call last)",
      "\u001b[0;32m<ipython-input-58-1e1864cd183b>\u001b[0m in \u001b[0;36m<module>\u001b[0;34m\u001b[0m\n\u001b[1;32m     11\u001b[0m \u001b[0;34m\u001b[0m\u001b[0m\n\u001b[1;32m     12\u001b[0m \u001b[0;34m\u001b[0m\u001b[0m\n\u001b[0;32m---> 13\u001b[0;31m \u001b[0msampled_Z_i\u001b[0m \u001b[0;34m=\u001b[0m \u001b[0mnp\u001b[0m\u001b[0;34m.\u001b[0m\u001b[0mrandom\u001b[0m\u001b[0;34m.\u001b[0m\u001b[0mchoice\u001b[0m\u001b[0;34m(\u001b[0m\u001b[0;34m[\u001b[0m\u001b[0;36m0\u001b[0m\u001b[0;34m,\u001b[0m\u001b[0;36m1\u001b[0m\u001b[0;34m,\u001b[0m\u001b[0;36m2\u001b[0m\u001b[0;34m,\u001b[0m\u001b[0;36m3\u001b[0m\u001b[0;34m]\u001b[0m\u001b[0;34m,\u001b[0m \u001b[0mp\u001b[0m \u001b[0;34m=\u001b[0m \u001b[0;34m[\u001b[0m\u001b[0mprob_Z_i_k\u001b[0m\u001b[0;34m[\u001b[0m\u001b[0mi\u001b[0m\u001b[0;34m]\u001b[0m \u001b[0;32mfor\u001b[0m \u001b[0mi\u001b[0m \u001b[0;32min\u001b[0m \u001b[0mrange\u001b[0m\u001b[0;34m(\u001b[0m\u001b[0mK\u001b[0m\u001b[0;34m)\u001b[0m\u001b[0;34m]\u001b[0m \u001b[0;34m,\u001b[0m \u001b[0msize\u001b[0m \u001b[0;34m=\u001b[0m \u001b[0mlen\u001b[0m\u001b[0;34m(\u001b[0m\u001b[0mdataset\u001b[0m\u001b[0;34m)\u001b[0m\u001b[0;34m)\u001b[0m\u001b[0;34m\u001b[0m\u001b[0;34m\u001b[0m\u001b[0m\n\u001b[0m",
      "\u001b[0;32mmtrand.pyx\u001b[0m in \u001b[0;36mnumpy.random.mtrand.RandomState.choice\u001b[0;34m()\u001b[0m\n",
      "\u001b[0;31mValueError\u001b[0m: probabilities do not sum to 1"
     ]
    }
   ],
   "source": [
    "prob_Z_i_k = np.zeros(K)\n",
    "sampled_Z_i = np.zeros(len(dataset))\n",
    "    \n",
    "   \n",
    "for k in range(K):\n",
    "    sum_norm = np.sum(p_k[k] * np.exp(-(dataset - mu_k[k])**2))\n",
    "    \n",
    "for i in range(len(dataset)):\n",
    "    for k in range(K):\n",
    "        prob_Z_i_k[k] = (p_k[k] * np.exp(-(dataset[i] - mu_k[k])**2)) / sum_norm \n",
    "        \n",
    "\n",
    "sampled_Z_i = np.random.choice([0,1,2,3], p = [prob_Z_i_k[i] for i in range(K)] , size = len(dataset))"
   ]
  },
  {
   "cell_type": "code",
   "execution_count": 56,
   "metadata": {},
   "outputs": [],
   "source": [
    "   \n",
    "for k in range(K):\n",
    "        sum_norm = np.sum(p_k[k] * np.exp(-(dataset - mu_k[k])**2))"
   ]
  },
  {
   "cell_type": "code",
   "execution_count": 57,
   "metadata": {},
   "outputs": [
    {
     "data": {
      "text/plain": [
       "57.17001423253471"
      ]
     },
     "execution_count": 57,
     "metadata": {},
     "output_type": "execute_result"
    }
   ],
   "source": [
    "sum_norm"
   ]
  },
  {
   "cell_type": "code",
   "execution_count": 26,
   "metadata": {},
   "outputs": [
    {
     "ename": "ValueError",
     "evalue": "probabilities do not sum to 1",
     "output_type": "error",
     "traceback": [
      "\u001b[0;31m---------------------------------------------------------------------------\u001b[0m",
      "\u001b[0;31mValueError\u001b[0m                                Traceback (most recent call last)",
      "\u001b[0;32m<ipython-input-26-1018c224cb86>\u001b[0m in \u001b[0;36m<module>\u001b[0;34m\u001b[0m\n\u001b[1;32m     24\u001b[0m     \u001b[0mproposal_mu\u001b[0m \u001b[0;34m=\u001b[0m \u001b[0msample_mu_k\u001b[0m\u001b[0;34m(\u001b[0m\u001b[0mmu_k\u001b[0m\u001b[0;34m,\u001b[0m \u001b[0mZ_i\u001b[0m\u001b[0;34m)\u001b[0m\u001b[0;34m\u001b[0m\u001b[0;34m\u001b[0m\u001b[0m\n\u001b[1;32m     25\u001b[0m     \u001b[0mproposal_pk\u001b[0m \u001b[0;34m=\u001b[0m \u001b[0msample_mu_k\u001b[0m\u001b[0;34m(\u001b[0m\u001b[0mp_k\u001b[0m\u001b[0;34m,\u001b[0m \u001b[0mZ_i\u001b[0m\u001b[0;34m)\u001b[0m\u001b[0;34m\u001b[0m\u001b[0;34m\u001b[0m\u001b[0m\n\u001b[0;32m---> 26\u001b[0;31m     \u001b[0mproposal_zi\u001b[0m \u001b[0;34m=\u001b[0m \u001b[0msample_Z_i\u001b[0m\u001b[0;34m(\u001b[0m\u001b[0mp_k\u001b[0m\u001b[0;34m,\u001b[0m \u001b[0mmu_k\u001b[0m\u001b[0;34m,\u001b[0m \u001b[0mZ_i\u001b[0m\u001b[0;34m,\u001b[0m \u001b[0mdataset\u001b[0m\u001b[0;34m)\u001b[0m\u001b[0;34m\u001b[0m\u001b[0;34m\u001b[0m\u001b[0m\n\u001b[0m\u001b[1;32m     27\u001b[0m \u001b[0;34m\u001b[0m\u001b[0m\n\u001b[1;32m     28\u001b[0m \u001b[0;34m\u001b[0m\u001b[0m\n",
      "\u001b[0;32m<ipython-input-18-29e6581db76b>\u001b[0m in \u001b[0;36msample_Z_i\u001b[0;34m(p_k, mu_k, Z_i, dataset)\u001b[0m\n\u001b[1;32m     36\u001b[0m             \u001b[0mprob_Z_i_k\u001b[0m\u001b[0;34m[\u001b[0m\u001b[0mk\u001b[0m\u001b[0;34m]\u001b[0m \u001b[0;34m=\u001b[0m \u001b[0;34m(\u001b[0m\u001b[0mp_k\u001b[0m\u001b[0;34m[\u001b[0m\u001b[0mk\u001b[0m\u001b[0;34m]\u001b[0m \u001b[0;34m*\u001b[0m \u001b[0mnp\u001b[0m\u001b[0;34m.\u001b[0m\u001b[0mexp\u001b[0m\u001b[0;34m(\u001b[0m\u001b[0;34m-\u001b[0m\u001b[0;34m(\u001b[0m\u001b[0mdataset\u001b[0m\u001b[0;34m[\u001b[0m\u001b[0mi\u001b[0m\u001b[0;34m]\u001b[0m \u001b[0;34m-\u001b[0m \u001b[0mmu_k\u001b[0m\u001b[0;34m[\u001b[0m\u001b[0mk\u001b[0m\u001b[0;34m]\u001b[0m\u001b[0;34m)\u001b[0m\u001b[0;34m**\u001b[0m\u001b[0;36m2\u001b[0m\u001b[0;34m)\u001b[0m\u001b[0;34m)\u001b[0m \u001b[0;34m/\u001b[0m \u001b[0;34m(\u001b[0m \u001b[0mnp\u001b[0m\u001b[0;34m.\u001b[0m\u001b[0msum\u001b[0m\u001b[0;34m(\u001b[0m\u001b[0mp_k\u001b[0m\u001b[0;34m[\u001b[0m\u001b[0mk\u001b[0m\u001b[0;34m]\u001b[0m \u001b[0;34m*\u001b[0m \u001b[0mnp\u001b[0m\u001b[0;34m.\u001b[0m\u001b[0mexp\u001b[0m\u001b[0;34m(\u001b[0m\u001b[0;34m-\u001b[0m\u001b[0;34m(\u001b[0m\u001b[0mdataset\u001b[0m\u001b[0;34m[\u001b[0m\u001b[0mi\u001b[0m\u001b[0;34m]\u001b[0m \u001b[0;34m-\u001b[0m \u001b[0mmu_k\u001b[0m\u001b[0;34m[\u001b[0m\u001b[0mk\u001b[0m\u001b[0;34m]\u001b[0m\u001b[0;34m)\u001b[0m\u001b[0;34m**\u001b[0m\u001b[0;36m2\u001b[0m\u001b[0;34m)\u001b[0m\u001b[0;34m)\u001b[0m \u001b[0;34m)\u001b[0m\u001b[0;34m\u001b[0m\u001b[0;34m\u001b[0m\u001b[0m\n\u001b[1;32m     37\u001b[0m \u001b[0;34m\u001b[0m\u001b[0m\n\u001b[0;32m---> 38\u001b[0;31m             \u001b[0msampled_Z_i\u001b[0m\u001b[0;34m[\u001b[0m\u001b[0mi\u001b[0m\u001b[0;34m]\u001b[0m \u001b[0;34m=\u001b[0m \u001b[0mnp\u001b[0m\u001b[0;34m.\u001b[0m\u001b[0mrandom\u001b[0m\u001b[0;34m.\u001b[0m\u001b[0mchoice\u001b[0m\u001b[0;34m(\u001b[0m\u001b[0mK\u001b[0m\u001b[0;34m,\u001b[0m \u001b[0mp\u001b[0m \u001b[0;34m=\u001b[0m \u001b[0mprob_Z_i_k\u001b[0m\u001b[0;34m)\u001b[0m\u001b[0;34m\u001b[0m\u001b[0;34m\u001b[0m\u001b[0m\n\u001b[0m\u001b[1;32m     39\u001b[0m \u001b[0;34m\u001b[0m\u001b[0m\n\u001b[1;32m     40\u001b[0m     \u001b[0;32mif\u001b[0m \u001b[0msampled_Z_i\u001b[0m \u001b[0;34m!=\u001b[0m \u001b[0mZ_i\u001b[0m\u001b[0;34m:\u001b[0m\u001b[0;34m\u001b[0m\u001b[0;34m\u001b[0m\u001b[0m\n",
      "\u001b[0;32mmtrand.pyx\u001b[0m in \u001b[0;36mnumpy.random.mtrand.RandomState.choice\u001b[0;34m()\u001b[0m\n",
      "\u001b[0;31mValueError\u001b[0m: probabilities do not sum to 1"
     ]
    }
   ],
   "source": [
    "#Initialize the parameters\n",
    "\n",
    "mu_k = np.random.uniform(np.min(dataset), np.max(dataset), K)\n",
    "\n",
    "p_k = np.random.uniform(0, 1, K)\n",
    "\n",
    "Z_i = np.random.randint(0, K, len(dataset))\n",
    "\n",
    "# Gibbs Sampling\n",
    "\n",
    "maxiter = 1000\n",
    "\n",
    "    \n",
    " # List to store the values\n",
    "mu_list = []\n",
    "pk_list = []\n",
    "Z_i_list = []\n",
    "\n",
    "    \n",
    "for i in range(maxiter):\n",
    "        \n",
    "    #proposals\n",
    "    proposal_mu = sample_mu_k(mu_k, Z_i)\n",
    "    proposal_pk = sample_mu_k(p_k, Z_i)\n",
    "    proposal_zi = sample_Z_i(p_k, mu_k, Z_i, dataset)\n",
    "    \n",
    "    \n",
    "    mu_list.append(proposal_mu)\n",
    "    pk_list.append(proposal_pk)\n",
    "    Z_i_list.append(proposal_zi)\n",
    "\n",
    "\n",
    "        "
   ]
  },
  {
   "cell_type": "code",
   "execution_count": 48,
   "metadata": {},
   "outputs": [],
   "source": [
    "Z_i_try2 = np.random.choice([0,1,2,3], p = [0.5 , 0.2 , 0.2 , 0.1] , size = len(dataset))"
   ]
  }
 ],
 "metadata": {
  "kernelspec": {
   "display_name": "Python 3",
   "language": "python",
   "name": "python3"
  },
  "language_info": {
   "codemirror_mode": {
    "name": "ipython",
    "version": 3
   },
   "file_extension": ".py",
   "mimetype": "text/x-python",
   "name": "python",
   "nbconvert_exporter": "python",
   "pygments_lexer": "ipython3",
   "version": "3.8.10"
  },
  "orig_nbformat": 4,
  "vscode": {
   "interpreter": {
    "hash": "e7370f93d1d0cde622a1f8e1c04877d8463912d04d973331ad4851f04de6915a"
   }
  }
 },
 "nbformat": 4,
 "nbformat_minor": 2
}
