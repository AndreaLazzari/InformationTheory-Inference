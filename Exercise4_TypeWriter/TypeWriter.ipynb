{
 "cells": [
  {
   "cell_type": "markdown",
   "metadata": {},
   "source": [
    "## Noisy TypeWriter"
   ]
  },
  {
   "cell_type": "markdown",
   "metadata": {},
   "source": [
    "Consider the noisy typewriter channel, mapping\n",
    "\n",
    "$$ A_Z = \\{ A, B, C, . . . , Y, Z, − \\} $$\n",
    "\n",
    "with $|A_Z| = 27$, into $A_Y = A_Z$, where each letter is mapped with equal probabilities into the preceding, the following or the same letter. Design an efficient code by which to reliably send symbols from $A_X = A_Z$ through the channel (i.e., you should be able to send and retrieve a text using the 27 synbols with no error).  \n",
    "\n",
    "Write a program implementing the channel and the code, and test it."
   ]
  },
  {
   "cell_type": "code",
   "execution_count": 9,
   "metadata": {},
   "outputs": [],
   "source": [
    "import string\n",
    "import numpy as np\n",
    "from functools import reduce"
   ]
  },
  {
   "cell_type": "code",
   "execution_count": 10,
   "metadata": {},
   "outputs": [
    {
     "data": {
      "text/plain": [
       "27"
      ]
     },
     "execution_count": 10,
     "metadata": {},
     "output_type": "execute_result"
    }
   ],
   "source": [
    "possible_characters = [character for character in string.ascii_lowercase] + [' ']\n",
    "len(possible_characters)"
   ]
  },
  {
   "cell_type": "code",
   "execution_count": 43,
   "metadata": {},
   "outputs": [
    {
     "data": {
      "text/plain": [
       "'rnqglydxrtec ndsplafyf'"
      ]
     },
     "execution_count": 43,
     "metadata": {},
     "output_type": "execute_result"
    }
   ],
   "source": [
    "len_text = 22\n",
    "\n",
    "list_text = np.random.choice(possible_characters, size = len_text, replace = True)\n",
    "\n",
    "text = reduce(lambda x,y: x+y, list_text, '')\n",
    "\n",
    "text"
   ]
  },
  {
   "cell_type": "markdown",
   "metadata": {},
   "source": [
    "### Approach\n",
    "\n",
    "We will solve the task in the following way:\n",
    "\n",
    "* We will associate to each letter a number from 9 on in base 9 (we start from 9 in order to have always 2 units).\n",
    "* We will associate to a group of 3 neighbouring letters a number between 0 and 8.\n",
    "* When we send the letter we first encode it as the number associated to the letter using for each unit the central letter in the correspondong set of 3 neighbouring characters.\n",
    "* Decode the message"
   ]
  },
  {
   "cell_type": "code",
   "execution_count": 12,
   "metadata": {},
   "outputs": [
    {
     "data": {
      "text/plain": [
       "{'0': 'b',\n",
       " '1': 'e',\n",
       " '2': 'h',\n",
       " '3': 'k',\n",
       " '4': 'n',\n",
       " '5': 'q',\n",
       " '6': 't',\n",
       " '7': 'w',\n",
       " '8': 'z'}"
      ]
     },
     "execution_count": 12,
     "metadata": {},
     "output_type": "execute_result"
    }
   ],
   "source": [
    "encoding_to_letter = {str(i):letter for i in range(9) for letter in [possible_characters[i * 3 + 1]]}\n",
    "encoding_to_letter   #the unique codewords\n"
   ]
  },
  {
   "cell_type": "code",
   "execution_count": 13,
   "metadata": {},
   "outputs": [
    {
     "data": {
      "text/plain": [
       "{'a': '0',\n",
       " 'b': '0',\n",
       " 'c': '0',\n",
       " 'd': '1',\n",
       " 'e': '1',\n",
       " 'f': '1',\n",
       " 'g': '2',\n",
       " 'h': '2',\n",
       " 'i': '2',\n",
       " 'j': '3',\n",
       " 'k': '3',\n",
       " 'l': '3',\n",
       " 'm': '4',\n",
       " 'n': '4',\n",
       " 'o': '4',\n",
       " 'p': '5',\n",
       " 'q': '5',\n",
       " 'r': '5',\n",
       " 's': '6',\n",
       " 't': '6',\n",
       " 'u': '6',\n",
       " 'v': '7',\n",
       " 'w': '7',\n",
       " 'x': '7',\n",
       " 'y': '8',\n",
       " 'z': '8',\n",
       " ' ': '8'}"
      ]
     },
     "execution_count": 13,
     "metadata": {},
     "output_type": "execute_result"
    }
   ],
   "source": [
    "letter_to_decoding = {possible_characters[i]: str((i) // 3)  for i in range(len(possible_characters))}\n",
    "letter_to_decoding"
   ]
  },
  {
   "cell_type": "code",
   "execution_count": 14,
   "metadata": {},
   "outputs": [
    {
     "data": {
      "text/plain": [
       "{'a': '10',\n",
       " 'b': '11',\n",
       " 'c': '12',\n",
       " 'd': '13',\n",
       " 'e': '14',\n",
       " 'f': '15',\n",
       " 'g': '16',\n",
       " 'h': '17',\n",
       " 'i': '18',\n",
       " 'j': '20',\n",
       " 'k': '21',\n",
       " 'l': '22',\n",
       " 'm': '23',\n",
       " 'n': '24',\n",
       " 'o': '25',\n",
       " 'p': '26',\n",
       " 'q': '27',\n",
       " 'r': '28',\n",
       " 's': '30',\n",
       " 't': '31',\n",
       " 'u': '32',\n",
       " 'v': '33',\n",
       " 'w': '34',\n",
       " 'x': '35',\n",
       " 'y': '36',\n",
       " 'z': '37',\n",
       " ' ': '38'}"
      ]
     },
     "execution_count": 14,
     "metadata": {},
     "output_type": "execute_result"
    }
   ],
   "source": [
    "letter_to_codeword = {possible_characters[i]: np.base_repr(i + 9, 9) for i in range(len(possible_characters))}\n",
    "letter_to_codeword\n"
   ]
  },
  {
   "cell_type": "code",
   "execution_count": 15,
   "metadata": {},
   "outputs": [],
   "source": [
    "codeword_to_letter = {np.base_repr(i + 9, 9): possible_characters[i] for i in range(len(possible_characters))}\n"
   ]
  },
  {
   "cell_type": "code",
   "execution_count": 36,
   "metadata": {},
   "outputs": [],
   "source": [
    "def encoder(letter):\n",
    "    assert letter in possible_characters, \"Letter not in possible characters\"\n",
    "\n",
    "    number_to_send = letter_to_codeword[letter]\n",
    "\n",
    "    first_unit = number_to_send[0]\n",
    "    second_unit = number_to_send[1]\n",
    "\n",
    "    return encoding_to_letter[first_unit] + encoding_to_letter[second_unit]\n"
   ]
  },
  {
   "cell_type": "code",
   "execution_count": 37,
   "metadata": {},
   "outputs": [],
   "source": [
    "def channel(input):\n",
    "    output = ''\n",
    "\n",
    "    for letter in input:\n",
    "        assert letter in possible_characters, \"Letter not in possible characters\"\n",
    "\n",
    "        letter_index = possible_characters.index(letter)\n",
    "        possible_letters = [possible_characters[i % len(possible_characters)] for i in [letter_index - 1, letter_index, letter_index + 1]]\n",
    "        \n",
    "        output += str(np.random.choice(possible_letters, size = 1)[0])\n",
    "\n",
    "    return output\n"
   ]
  },
  {
   "cell_type": "code",
   "execution_count": 38,
   "metadata": {},
   "outputs": [],
   "source": [
    "def decoder(input):\n",
    "\n",
    "    final_decoding = ''\n",
    "    \n",
    "    for letter in input:\n",
    "        assert letter in possible_characters, \"Letter not in possible characters\"\n",
    "\n",
    "        final_decoding += letter_to_decoding[letter]\n",
    "\n",
    "    return codeword_to_letter[final_decoding] \n"
   ]
  },
  {
   "cell_type": "code",
   "execution_count": 42,
   "metadata": {},
   "outputs": [
    {
     "name": "stdout",
     "output_type": "stream",
     "text": [
      "a -> a\n",
      "b -> b\n",
      "c -> c\n",
      "d -> d\n",
      "e -> e\n",
      "f -> f\n",
      "g -> g\n",
      "h -> h\n",
      "i -> i\n",
      "j -> j\n",
      "k -> k\n",
      "l -> l\n",
      "m -> m\n",
      "n -> n\n",
      "o -> o\n",
      "p -> p\n",
      "q -> q\n",
      "r -> r\n",
      "s -> s\n",
      "t -> t\n",
      "u -> u\n",
      "v -> v\n",
      "w -> w\n",
      "x -> x\n",
      "y -> y\n",
      "z -> z\n",
      "  ->  \n"
     ]
    }
   ],
   "source": [
    "\n",
    "# Verifying the decoding of the encoded chars\n",
    "for character in possible_characters:\n",
    "    print(f'''{character} -> {decoder(channel(encoder(character)))}''')\n",
    "    "
   ]
  },
  {
   "cell_type": "code",
   "execution_count": 52,
   "metadata": {},
   "outputs": [
    {
     "data": {
      "text/plain": [
       "['x =  r    encoding in ->  hz   noisy channel ->   h    decoding in ->   r',\n",
       " 'x =  n    encoding in ->  hn   noisy channel ->   ho   decoding in ->   n',\n",
       " 'x =  q    encoding in ->  hw   noisy channel ->   hw   decoding in ->   q',\n",
       " 'x =  g    encoding in ->  et   noisy channel ->   du   decoding in ->   g',\n",
       " 'x =  l    encoding in ->  hh   noisy channel ->   ig   decoding in ->   l',\n",
       " 'x =  y    encoding in ->  kt   noisy channel ->   lt   decoding in ->   y',\n",
       " 'x =  d    encoding in ->  ek   noisy channel ->   el   decoding in ->   d',\n",
       " 'x =  x    encoding in ->  kq   noisy channel ->   lq   decoding in ->   x',\n",
       " 'x =  r    encoding in ->  hz   noisy channel ->   hy   decoding in ->   r',\n",
       " 'x =  t    encoding in ->  ke   noisy channel ->   ke   decoding in ->   t',\n",
       " 'x =  e    encoding in ->  en   noisy channel ->   dn   decoding in ->   e',\n",
       " 'x =  c    encoding in ->  eh   noisy channel ->   fh   decoding in ->   c',\n",
       " 'x =       encoding in ->  kz   noisy channel ->   j    decoding in ->    ',\n",
       " 'x =  n    encoding in ->  hn   noisy channel ->   gn   decoding in ->   n',\n",
       " 'x =  d    encoding in ->  ek   noisy channel ->   dk   decoding in ->   d',\n",
       " 'x =  s    encoding in ->  kb   noisy channel ->   jb   decoding in ->   s',\n",
       " 'x =  p    encoding in ->  ht   noisy channel ->   gs   decoding in ->   p',\n",
       " 'x =  l    encoding in ->  hh   noisy channel ->   gg   decoding in ->   l',\n",
       " 'x =  a    encoding in ->  eb   noisy channel ->   fb   decoding in ->   a',\n",
       " 'x =  f    encoding in ->  eq   noisy channel ->   fp   decoding in ->   f',\n",
       " 'x =  y    encoding in ->  kt   noisy channel ->   ju   decoding in ->   y',\n",
       " 'x =  f    encoding in ->  eq   noisy channel ->   fr   decoding in ->   f']"
      ]
     },
     "execution_count": 52,
     "metadata": {},
     "output_type": "execute_result"
    }
   ],
   "source": [
    "# Visualizing the process of encoding and decoding for our text\n",
    "[('x =  ' + letter + '    encoding in ->  ' + encoder(letter) + '   noisy channel ->   ' +  channel(encoder(letter)) \n",
    "  +  '   decoding in ->   ' +  decoder(channel(encoder(letter)))) for letter in text]"
   ]
  },
  {
   "cell_type": "code",
   "execution_count": null,
   "metadata": {},
   "outputs": [],
   "source": []
  }
 ],
 "metadata": {
  "kernelspec": {
   "display_name": "Python 3.8.10 64-bit",
   "language": "python",
   "name": "python3"
  },
  "language_info": {
   "codemirror_mode": {
    "name": "ipython",
    "version": 3
   },
   "file_extension": ".py",
   "mimetype": "text/x-python",
   "name": "python",
   "nbconvert_exporter": "python",
   "pygments_lexer": "ipython3",
   "version": "3.8.10"
  },
  "orig_nbformat": 4,
  "vscode": {
   "interpreter": {
    "hash": "e7370f93d1d0cde622a1f8e1c04877d8463912d04d973331ad4851f04de6915a"
   }
  }
 },
 "nbformat": 4,
 "nbformat_minor": 2
}
